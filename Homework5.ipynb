{
 "cells": [
  {
   "cell_type": "markdown",
   "id": "3ed380a0",
   "metadata": {},
   "source": [
    "# Deadline: 18 January 2024\n",
    "\n",
    "Implement the DeBruijn graph class. Add the Eulerian walk function to build an assembly from reads using the DeBruijn graph. Provide tests. Check https://gist.github.com/BenLangmead/5298132.\n",
    "\n",
    "4 points\n"
   ]
  },
  {
   "cell_type": "code",
   "execution_count": null,
   "id": "16b75892",
   "metadata": {},
   "outputs": [],
   "source": []
  }
 ],
 "metadata": {
  "kernelspec": {
   "display_name": "Python 3 (ipykernel)",
   "language": "python",
   "name": "python3"
  },
  "language_info": {
   "codemirror_mode": {
    "name": "ipython",
    "version": 3
   },
   "file_extension": ".py",
   "mimetype": "text/x-python",
   "name": "python",
   "nbconvert_exporter": "python",
   "pygments_lexer": "ipython3",
   "version": "3.9.13"
  }
 },
 "nbformat": 4,
 "nbformat_minor": 5
}
