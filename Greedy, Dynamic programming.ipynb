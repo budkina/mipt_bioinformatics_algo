{
 "cells": [
  {
   "cell_type": "markdown",
   "id": "71d90766",
   "metadata": {},
   "source": [
    "\n",
    "# Combinatorial optimization \n",
    "\n",
    "The objective of combinatorial optimization is to select the most optimal subset of elements from a given set in order to obtain the optimal result of a function, typically through minimizing or maximizing its value.\n",
    "\n",
    "# Greedy algorithm\n",
    "\n",
    "A greedy algorithm is any algorithm that solves a problem by making the locally optimal choice at each stage. Greedy algorithms are known to produce suboptimal results on many problems\n",
    "\n",
    "## Example1:\n",
    "\n",
    "Some country have n denominations $  a_1 = 1 < a_2 < ... < a_n$ of coins. We need to collect the amount of money S with the least number of coins.\n",
    "\n",
    "- take the largest possible number of coins of the highest denomination: $k_n$ of $a_n$ coins:\n",
    "\n",
    "$k_n=floor(S/a_n)$\n",
    "\n",
    "$S' = S - a_n*k_n$\n",
    "\n",
    "- how many of $a_{n-1}$ coins we need for $S'$?: \n",
    "\n",
    "$k_{n-1}=floor(S'/a_{n-1})$\n",
    "\n",
    "- continue to $a_1$\n",
    "\n",
    "Result $ k = k_n + k_{n-1} +...$\n",
    "\n",
    "This greedy algorithm is not optimal:\n",
    "\n",
    "Example: $S = 24, a_1 = 1, a_2 = 5, a_3 = 7$\n",
    "\n",
    "Result: 3 of $a_3$; 3 of $a_1$\n",
    "\n",
    "Optimal: 2 of $a_3$; 2 of $a_2$\n",
    "\n",
    "## Example2:\n",
    "\n",
    "However, for some greedy algorithm we can proove that they return an optimal solution.\n",
    "\n",
    "We have a set of intervals $[a_i, b_i]$ that covers an interval $[0, X]$ without gaps. The task is to find a subset with minimum number of intervals that still covers $[0, X]$ without gaps.\n",
    "\n",
    "- We arrange the set of intervals in ascending order of the left end $a_i$\n",
    "\n",
    "- Among the intervals covering 0, we find one with the largest value of the right end $b_i$ - $[c_1, d_1]$\n",
    "\n",
    "- Among the intervals covering $d_1$, we find one with the largest value of the right end $b_i$ - $[c_2, d_2]$\n",
    "\n",
    "- ...\n",
    "\n",
    "Result: $[c_1, d_1]$, $[c_2, d_2]$, ... - optimal\n",
    "\n",
    "\n",
    "## Example2, Knapsack problem:\n",
    "\n",
    "Given a set of items N, each with a weight $w_i$ and a value $c_i$, determine which items to include in the collection so that the total weight is less than or equal to a given limit L and the total value is as large as possible.\n",
    "\n",
    "![Knapsack](https://upload.wikimedia.org/wikipedia/commons/thumb/f/fd/Knapsack.svg/500px-Knapsack.svg.png)\n",
    "\n",
    "Greedy algorithm:\n",
    "\n",
    "- for each item calculate the ratio $c_i/w_i$\n",
    "\n",
    "- sort items by $c_i/w_i$ in descending order\n",
    "\n",
    "- put the first item from the sorted array with $w_i < L$\n",
    "\n",
    "- continue to dequeue items from the sorted array while $w_{i1} + w_{i2} + ... < L$\n",
    "\n",
    "This greedy algorithm is not optimal:\n",
    "\n",
    "L=90\n",
    "\n",
    "$w_1 = 20$;  $c_1 = 60$; $c_1/w_1 = 3$\n",
    "\n",
    "$w_2 = 30$;  $c_2 = 90$; $c_2/w_2 = 3$\n",
    "\n",
    "$w_3 = 50$;  $c_3 = 100$; $c_3/w_3 = 2$\n",
    "\n",
    "Greedy algorithm: $c_1 + c_2 = 150$\n",
    "\n",
    "Optimal: $c_2 + c_3 = 190$"
   ]
  },
  {
   "cell_type": "markdown",
   "id": "53b67a92",
   "metadata": {},
   "source": [
    "# Dynamic programming"
   ]
  },
  {
   "cell_type": "markdown",
   "id": "a8eb3a9f",
   "metadata": {},
   "source": [
    "dividing the problem into simpler subtasks. Each subtask is solved only once to reduce computation time\n",
    "\n",
    "- split the task into subtasks\n",
    "- cache the results of solving subtasks\n",
    "- delete unused results of solving subtasks\n",
    "\n",
    "- Top-down approach: the task is divided into smaller subtasks, they are solved and combined to solve the original problem. Memorization is used to solve frequently occurring subtasks.\n",
    "\n",
    "\n",
    "- Bottom-up approach: all subtasks that may be needed to solve the original problem are calculated in advance and then used to build a solution to the original problem. However, sometimes it is not easy to find out which subtasks we need to solve.\n",
    "\n",
    "## Fibonacci sequence using dynamic programming\n",
    "\n",
    "To implement the bottom-up approach, it is necessary to calculate all Fibonacci numbers from 1 to n\n",
    "\n",
    "![Title](https://www.baeldung.com/wp-content/uploads/sites/4/2020/06/Fibonacci-bottom-up-1.svg)\n",
    "\n",
    "Top-down approach is better.\n",
    "\n",
    "$F(n) = F(n-1)  + F(n-2) $\n",
    "\n",
    "Moreover some calculations can be reused.\n",
    "\n",
    "![Title](https://www.baeldung.com/wp-content/uploads/sites/4/2020/06/Fibonacci-memoization.svg)"
   ]
  },
  {
   "cell_type": "code",
   "execution_count": 5,
   "id": "50ebf1b1",
   "metadata": {},
   "outputs": [],
   "source": [
    "def F(n):\n",
    "    dp = {}\n",
    "    dp[0] = 1\n",
    "    dp[1] = 1\n",
    "    return calculate_F(n, dp)\n",
    "\n",
    "def calculate_F(n, dp):\n",
    "    print(f'n = {n}')\n",
    "    if n not in dp:\n",
    "        print(f'n-1 = {n-1}')\n",
    "        print(f'n-2 = {n-2}')\n",
    "        dp[n] = calculate_F(n-1, dp) + calculate_F(n-2, dp)\n",
    "    print(f'new dp = {dp}')\n",
    "    return dp[n]"
   ]
  },
  {
   "cell_type": "code",
   "execution_count": 6,
   "id": "39954c10",
   "metadata": {
    "scrolled": false
   },
   "outputs": [
    {
     "name": "stdout",
     "output_type": "stream",
     "text": [
      "n = 7\n",
      "n-1 = 6\n",
      "n-2 = 5\n",
      "n = 6\n",
      "n-1 = 5\n",
      "n-2 = 4\n",
      "n = 5\n",
      "n-1 = 4\n",
      "n-2 = 3\n",
      "n = 4\n",
      "n-1 = 3\n",
      "n-2 = 2\n",
      "n = 3\n",
      "n-1 = 2\n",
      "n-2 = 1\n",
      "n = 2\n",
      "n-1 = 1\n",
      "n-2 = 0\n",
      "n = 1\n",
      "new dp = {0: 1, 1: 1}\n",
      "n = 0\n",
      "new dp = {0: 1, 1: 1}\n",
      "new dp = {0: 1, 1: 1, 2: 2}\n",
      "n = 1\n",
      "new dp = {0: 1, 1: 1, 2: 2}\n",
      "new dp = {0: 1, 1: 1, 2: 2, 3: 3}\n",
      "n = 2\n",
      "new dp = {0: 1, 1: 1, 2: 2, 3: 3}\n",
      "new dp = {0: 1, 1: 1, 2: 2, 3: 3, 4: 5}\n",
      "n = 3\n",
      "new dp = {0: 1, 1: 1, 2: 2, 3: 3, 4: 5}\n",
      "new dp = {0: 1, 1: 1, 2: 2, 3: 3, 4: 5, 5: 8}\n",
      "n = 4\n",
      "new dp = {0: 1, 1: 1, 2: 2, 3: 3, 4: 5, 5: 8}\n",
      "new dp = {0: 1, 1: 1, 2: 2, 3: 3, 4: 5, 5: 8, 6: 13}\n",
      "n = 5\n",
      "new dp = {0: 1, 1: 1, 2: 2, 3: 3, 4: 5, 5: 8, 6: 13}\n",
      "new dp = {0: 1, 1: 1, 2: 2, 3: 3, 4: 5, 5: 8, 6: 13, 7: 21}\n"
     ]
    },
    {
     "data": {
      "text/plain": [
       "21"
      ]
     },
     "execution_count": 6,
     "metadata": {},
     "output_type": "execute_result"
    }
   ],
   "source": [
    "F(7)"
   ]
  },
  {
   "cell_type": "markdown",
   "id": "6b5019d1",
   "metadata": {},
   "source": [
    "## Knapsack problem:\n",
    "\n",
    "We can find an optimal solution if we assume that all weights are integers.\n",
    "\n",
    "- There is an unlimited number of items with a weight of $w_i$, i=1..n\n",
    "\n",
    "$dp[w]$ - the maximum value of items that can be placed in a knapsack with a weight limit of w\n",
    "\n",
    "$dp[0] = 0$\n",
    "\n",
    "for each w_i type of items, for each possible weight w in 1:L:\n",
    "    \n",
    "calculate $dp[w] = max(c_i - dp[w-w_i])$\n",
    "\n",
    "$T=O(L*n)$\n",
    "\n",
    "- There is only one item with lable i, i = 1..n\n",
    "\n",
    "$dp[i, w]$ - the maximum value of items that can be placed in a knapsack with a weight limit of w, if we use items with lables from 1 to i\n",
    "\n",
    "$dp[0, w]$  = 0\n",
    "\n",
    "if $w_i > w$:\n",
    "\n",
    "$dp[i, w] = dp[i-1, w]$\n",
    "\n",
    "else:\n",
    "\n",
    "$dp[i, w] = max_i(dp[i-1, w], dp[i-1, w - w_i] + c_i)$ - maximum of using or not using i item in a knapsack\n",
    "\n",
    "$T=O(L*n)$"
   ]
  },
  {
   "cell_type": "markdown",
   "id": "a09298bc",
   "metadata": {},
   "source": [
    "(here $v_i = c_i$):"
   ]
  },
  {
   "cell_type": "markdown",
   "id": "f61bb7ba",
   "metadata": {},
   "source": [
    "![Alignment](https://upload.wikimedia.org/wikipedia/commons/d/dc/Knapsack_problem_dynamic_programming.gif)\n"
   ]
  },
  {
   "cell_type": "markdown",
   "id": "bee49c4a",
   "metadata": {},
   "source": [
    "## Needleman–Wunsch algorithm\n",
    "\n",
    "- global alignment algorithm\n",
    "\n",
    "- we assign a total score to each alignment variant\n",
    "\n",
    "\n",
    "The calculation of the score is based on the scores of each individual pair of letters\n",
    "\n",
    "- Match: The two letters at the current index are the same.\n",
    "\n",
    "- Mismatch: The two letters at the current index are different.\n",
    "\n",
    "- Indel (Insertion or Deletion): The best alignment involves one letter aligning to a gap in the other string.\n",
    "\n",
    "Simple scoring system:\n",
    "- Match: +1\n",
    "- Mismatch or Indel: −1\n",
    "\n",
    "\n",
    "GCATGCG\n",
    "\n",
    "GATTACA\n",
    "\n",
    "\n",
    "\n",
    "0) \n",
    "- To fill the first row: we move horizontally, this means that an insertion occurred in the first sequence, we add a penalty for indel to the previous value\n",
    "- To fill the first column: we move vertically, this means that an insertion occurred in the second sequence, we add a penalty for indel to the previous value\n",
    "\n",
    "\n",
    "1) To build a dynamic programming table we move from the top-left cell to the bottom-right:"
   ]
  },
  {
   "cell_type": "markdown",
   "id": "af7840c9",
   "metadata": {},
   "source": [
    "![Alignment](img/needleman_build.png)\n",
    "\n",
    "2) To get the best alignment we move from the bottom-right cell to the top-left:"
   ]
  },
  {
   "cell_type": "markdown",
   "id": "bdaa919d",
   "metadata": {},
   "source": [
    "\n",
    "![Alignment](https://upload.wikimedia.org/wikipedia/commons/thumb/3/3f/Needleman-Wunsch_pairwise_sequence_alignment.png/440px-Needleman-Wunsch_pairwise_sequence_alignment.png)\n",
    "\n",
    "\n"
   ]
  },
  {
   "cell_type": "markdown",
   "id": "d497e1a8",
   "metadata": {},
   "source": [
    "GCATG-CG\n",
    "\n",
    "G-ATTACA\n",
    "\n",
    "Score = 0"
   ]
  }
 ],
 "metadata": {
  "kernelspec": {
   "display_name": "Python 3 (ipykernel)",
   "language": "python",
   "name": "python3"
  },
  "language_info": {
   "codemirror_mode": {
    "name": "ipython",
    "version": 3
   },
   "file_extension": ".py",
   "mimetype": "text/x-python",
   "name": "python",
   "nbconvert_exporter": "python",
   "pygments_lexer": "ipython3",
   "version": "3.9.13"
  }
 },
 "nbformat": 4,
 "nbformat_minor": 5
}
