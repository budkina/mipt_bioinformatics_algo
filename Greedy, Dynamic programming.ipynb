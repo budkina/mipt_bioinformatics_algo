{
 "cells": [
  {
   "cell_type": "markdown",
   "id": "71d90766",
   "metadata": {},
   "source": [
    "\n",
    "# Greedy algorithm\n",
    "\n",
    "**A greedy algorithm** is any algorithm that solves a problem by making the locally optimal choice at each stage. Greedy algorithms are known to produce suboptimal results for many problems.\n",
    "\n",
    "## Combinatorial optimization \n",
    "\n",
    "The objective of **combinatorial optimization** problems is to select the most optimal subset of elements from a given set in order to obtain the optimal result of a function, typically by minimizing or maximizing its value.\n",
    "\n",
    "## Example1:\n",
    "\n",
    "Some country have $n$ denominations of coins:\n",
    "$  a_1 = 1 < a_2 < ... < a_n$.\n",
    "\n",
    "We need to collect the amount of money $S$ with the least number of coins.\n",
    "\n",
    "**Greedy algorithm steps**:\n",
    "\n",
    "1) Take the largest possible number of coins of the highest denomination $a_n$:\n",
    "\n",
    "$k_n=floor(S/a_n)$\n",
    "\n",
    "$S' = S - a_n \\cdot k_n$\n",
    "\n",
    "2) How many of $a_{n-1}$ coins do we need for $S'$?: \n",
    "\n",
    "$k_{n-1}=floor(S'/a_{n-1})$\n",
    "\n",
    "3) Continue to $a_1$\n",
    "\n",
    "Result: $ k = k_n + k_{n-1} +...$\n",
    "\n",
    "This greedy algorithm is not optimal.\n",
    "\n",
    "Example: $S = 24, a_1 = 1, a_2 = 5, a_3 = 7$\n",
    "\n",
    "Result: 3 of $a_3$; 3 of $a_1$: $24 = 3 \\cdot 7+3 \\cdot 1$\n",
    "\n",
    "Optimal solution: 2 of $a_3$; 2 of $a_2$: $24 = 2 \\cdot 7+2 \\cdot 5$\n",
    "\n",
    "## Example2:\n",
    "\n",
    "However, for some greedy algorithms, we can prove that they return an optimal solution.\n",
    "\n",
    "We have a set of intervals $[a_i, b_i]$ that cover an interval $[0, X]$ without gaps. The task is to find a subset with the  minimum number of intervals that still cover $[0, X]$ without gaps.\n",
    "\n",
    "1) We arrange the set of intervals in ascending order of the left end $a_i$\n",
    "\n",
    "2) Among the intervals covering 0, we find one with the largest value of the right end $b_i$ - $[c_1, d_1]$\n",
    "\n",
    "3) Among the intervals covering $d_1$, we find one with the largest value of the right end $b_i$ - $[c_2, d_2]$\n",
    "\n",
    "...\n",
    "\n",
    "4) Stop when $d_n \\geq X$\n",
    "\n",
    "Result: $[c_1, d_1]$, $[c_2, d_2]$, ... - optimal\n",
    "\n",
    "\n",
    "## Example3, Knapsack problem:\n",
    "\n",
    "Given a set of items $N$, each with a weight $w_i$ and a value $c_i$, determine which items to include in the collection so that the total weight is less than or equal to a given limit L and the total value is as large as possible.\n",
    "\n",
    "![Knapsack](https://upload.wikimedia.org/wikipedia/commons/thumb/f/fd/Knapsack.svg/500px-Knapsack.svg.png)\n",
    "\n",
    "Greedy algorithm:\n",
    "\n",
    "1) for each item calculate the ratio $c_i/w_i$\n",
    "\n",
    "2) sort items by $c_i/w_i$ in descending order\n",
    "\n",
    "3) put the first item from the sorted array with $w_i < L$\n",
    "\n",
    "4) continue to dequeue items from the sorted array while $w_{i1} + w_{i2} + ... < L$\n",
    "\n",
    "This greedy algorithm is not optimal:\n",
    "\n",
    "L=90\n",
    "\n",
    "$w_1 = 20$;  $c_1 = 60$; $c_1/w_1 = 3$\n",
    "\n",
    "$w_2 = 30$;  $c_2 = 90$; $c_2/w_2 = 3$\n",
    "\n",
    "$w_3 = 50$;  $c_3 = 100$; $c_3/w_3 = 2$\n",
    "\n",
    "Greedy algorithm: $c_1 + c_2 = 150$\n",
    "\n",
    "Optimal: $c_2 + c_3 = 190$"
   ]
  },
  {
   "cell_type": "markdown",
   "id": "53b67a92",
   "metadata": {},
   "source": [
    "# Dynamic programming"
   ]
  },
  {
   "cell_type": "markdown",
   "id": "a8eb3a9f",
   "metadata": {},
   "source": [
    "We divide the problem into simpler subtasks. Each subtask is solved only once to reduce computation time\n",
    "\n",
    "- split the task into subtasks\n",
    "- cache the results of solving subtasks\n",
    "- delete unused results of solving subtasks\n",
    "\n",
    "**Top-down approach**: the task is divided into smaller subtasks, they are solved and combined to solve the original problem. Memorization is used to solve frequently occurring subtasks.\n",
    "\n",
    "\n",
    "**Bottom-up approach**: all subtasks that may be needed to solve the original problem are calculated in advance and then used to build a solution to the original problem. However, sometimes it is not easy to find out which subtasks we need to solve.\n",
    "\n",
    "## Fibonacci sequence using dynamic programming\n",
    "\n",
    "To implement the bottom-up approach, it is necessary to calculate all Fibonacci numbers from 1 to $n$\n",
    "\n",
    "![Title](https://www.baeldung.com/wp-content/uploads/sites/4/2020/06/Fibonacci-bottom-up-1.svg)\n",
    "\n",
    "Top-down approach is better.\n",
    "\n",
    "$F(n) = F(n-1)  + F(n-2) $\n",
    "\n",
    "Moreover some calculations can be reused.\n",
    "\n",
    "![Title](https://www.baeldung.com/wp-content/uploads/sites/4/2020/06/Fibonacci-memoization.svg)"
   ]
  },
  {
   "cell_type": "code",
   "execution_count": 5,
   "id": "50ebf1b1",
   "metadata": {},
   "outputs": [],
   "source": [
    "def F(n):\n",
    "    dp = {}\n",
    "    dp[0] = 1\n",
    "    dp[1] = 1\n",
    "    return calculate_F(n, dp)\n",
    "\n",
    "def calculate_F(n, dp):\n",
    "    print(f'n = {n}')\n",
    "    if n not in dp:\n",
    "        print(f'n-1 = {n-1}')\n",
    "        print(f'n-2 = {n-2}')\n",
    "        dp[n] = calculate_F(n-1, dp) + calculate_F(n-2, dp)\n",
    "    print(f'new dp = {dp}')\n",
    "    return dp[n]"
   ]
  },
  {
   "cell_type": "code",
   "execution_count": 6,
   "id": "39954c10",
   "metadata": {
    "scrolled": false
   },
   "outputs": [
    {
     "name": "stdout",
     "output_type": "stream",
     "text": [
      "n = 7\n",
      "n-1 = 6\n",
      "n-2 = 5\n",
      "n = 6\n",
      "n-1 = 5\n",
      "n-2 = 4\n",
      "n = 5\n",
      "n-1 = 4\n",
      "n-2 = 3\n",
      "n = 4\n",
      "n-1 = 3\n",
      "n-2 = 2\n",
      "n = 3\n",
      "n-1 = 2\n",
      "n-2 = 1\n",
      "n = 2\n",
      "n-1 = 1\n",
      "n-2 = 0\n",
      "n = 1\n",
      "new dp = {0: 1, 1: 1}\n",
      "n = 0\n",
      "new dp = {0: 1, 1: 1}\n",
      "new dp = {0: 1, 1: 1, 2: 2}\n",
      "n = 1\n",
      "new dp = {0: 1, 1: 1, 2: 2}\n",
      "new dp = {0: 1, 1: 1, 2: 2, 3: 3}\n",
      "n = 2\n",
      "new dp = {0: 1, 1: 1, 2: 2, 3: 3}\n",
      "new dp = {0: 1, 1: 1, 2: 2, 3: 3, 4: 5}\n",
      "n = 3\n",
      "new dp = {0: 1, 1: 1, 2: 2, 3: 3, 4: 5}\n",
      "new dp = {0: 1, 1: 1, 2: 2, 3: 3, 4: 5, 5: 8}\n",
      "n = 4\n",
      "new dp = {0: 1, 1: 1, 2: 2, 3: 3, 4: 5, 5: 8}\n",
      "new dp = {0: 1, 1: 1, 2: 2, 3: 3, 4: 5, 5: 8, 6: 13}\n",
      "n = 5\n",
      "new dp = {0: 1, 1: 1, 2: 2, 3: 3, 4: 5, 5: 8, 6: 13}\n",
      "new dp = {0: 1, 1: 1, 2: 2, 3: 3, 4: 5, 5: 8, 6: 13, 7: 21}\n"
     ]
    },
    {
     "data": {
      "text/plain": [
       "21"
      ]
     },
     "execution_count": 6,
     "metadata": {},
     "output_type": "execute_result"
    }
   ],
   "source": [
    "F(7)"
   ]
  },
  {
   "cell_type": "markdown",
   "id": "6b5019d1",
   "metadata": {},
   "source": [
    "## Knapsack problem:\n",
    "\n",
    "We can find an optimal solution using dynamic programming if we assume that all weights are integers.\n",
    "\n",
    "**I. There is an unlimited number of items with a weight of $w_i$, i=1..n**\n",
    "\n",
    "$dp[w]$ - the maximum total cost of items that can be placed in a knapsack with a weight limit of $w$\n",
    "\n",
    "1) $dp[0] = 0$\n",
    "\n",
    "2) If we use $w_i$ type item, then the rest of the items in the knapsack weighs $w-w_i$ and costs dp[w-w_i]. The whole knapsack costs $c_i + dp[w-w_i]$. We iterate through all available item types and try to use each type in the knapsack. Calculate $dp[w] = max(c_1 + dp[w-w_1], ... , c_n + dp[w-w_n])$ for each $w_i$ type of items, for each possible weight $w$ in 1:L:\n",
    "\n",
    "$T=O(L*n)$\n",
    "\n",
    "**II. There is only one item with lable i, i = 1..n**\n",
    "\n",
    "$dp[i, w]$ - the maximum total cost of items that can be placed in a knapsack with a weight limit of $w$, if we use items with lables from 1 to i\n",
    "\n",
    "1) $dp[0, w]$  = 0\n",
    "\n",
    "2) If $w_i > w$ - we can't use item i: $dp[i, w] = dp[i-1, w]$\n",
    "\n",
    "3) Else if $w_i \\leq w$: $dp[i, w] = max(dp[i-1, w], dp[i-1, w - w_i] + c_i)$ - maximum cost of using or not using i item in a knapsack\n",
    "\n",
    "$T=O(L*n)$"
   ]
  },
  {
   "cell_type": "markdown",
   "id": "a09298bc",
   "metadata": {},
   "source": [
    "(here $v_i = c_i$):"
   ]
  },
  {
   "cell_type": "markdown",
   "id": "f61bb7ba",
   "metadata": {},
   "source": [
    "![Alignment](https://upload.wikimedia.org/wikipedia/commons/d/dc/Knapsack_problem_dynamic_programming.gif)\n"
   ]
  },
  {
   "cell_type": "markdown",
   "id": "530d851b",
   "metadata": {},
   "source": [
    "## Edit distance (Levenshtein distance)\n",
    "\n",
    "Distance between two sequences X and Y = minimum number of edits (substitutions, insertions, deletions) needed to turn one into other.\n",
    "\n",
    "![Alignment](img/edit_dist.png)\n",
    "\n",
    "$editDistance(X,Y) \\geq ||X|-|Y||$\n",
    "\n",
    "We can calculate edit distances of prefixes of X and Y\n",
    "\n",
    "![Alignment](img/edit_dist_prefix.png)\n"
   ]
  },
  {
   "cell_type": "code",
   "execution_count": 1,
   "id": "7c6fb961",
   "metadata": {},
   "outputs": [],
   "source": [
    "# Implementation using recursion\n",
    "def edit_dist(a, b):\n",
    "    if len(a) == 0:\n",
    "        return len(b)\n",
    "    if len(b) == 0:\n",
    "        return len(a)\n",
    "    d = 0 if a[-1] == b[-1] else 1\n",
    "    return min(edit_dist(a[:-1], b[:-1]) + d,\n",
    "               edit_dist(a[:-1], b) + 1,\n",
    "               edit_dist(a, b[:-1]) + 1)"
   ]
  },
  {
   "cell_type": "code",
   "execution_count": 4,
   "id": "b8556d55",
   "metadata": {},
   "outputs": [
    {
     "data": {
      "text/plain": [
       "2"
      ]
     },
     "execution_count": 4,
     "metadata": {},
     "output_type": "execute_result"
    }
   ],
   "source": [
    "edit_dist('ABBC', 'ADC')"
   ]
  },
  {
   "cell_type": "markdown",
   "id": "29966bd7",
   "metadata": {},
   "source": [
    "We can create dynamic programming matrix with edit distances of the corresponding prefixes.\n",
    "\n",
    "![Alignment](img/edit_distance_dp.png)\n"
   ]
  },
  {
   "cell_type": "code",
   "execution_count": 5,
   "id": "e91614e6",
   "metadata": {},
   "outputs": [],
   "source": [
    "# Implementation using dynamic programming\n",
    "def edit_dist(a, b):\n",
    "    dp = []\n",
    "    for i in range(len(a)+1):\n",
    "        dp.append([0]*(len(b)+1))\n",
    "    for i in range(len(a)+1):\n",
    "        dp[i][0]=i\n",
    "    for i in range(len(b)+1):\n",
    "        dp[0][i]=i\n",
    "    for i in range(len(a)+1):\n",
    "        for j in range(len(b)+1):\n",
    "            d = 0 if a[i-1] == b[j-1] else 1\n",
    "            dp[i][j] = min(dp[i-1][j-1] + d,\n",
    "                           dp[i][j-1] + 1,\n",
    "                           dp[i-1][j] + 1)\n",
    "    return dp[-1][-1]"
   ]
  },
  {
   "cell_type": "code",
   "execution_count": 6,
   "id": "20ec48f1",
   "metadata": {},
   "outputs": [
    {
     "data": {
      "text/plain": [
       "5"
      ]
     },
     "execution_count": 6,
     "metadata": {},
     "output_type": "execute_result"
    }
   ],
   "source": [
    "edit_dist('GCATGCG', 'GATTACA')"
   ]
  }
 ],
 "metadata": {
  "kernelspec": {
   "display_name": "Python 3 (ipykernel)",
   "language": "python",
   "name": "python3"
  },
  "language_info": {
   "codemirror_mode": {
    "name": "ipython",
    "version": 3
   },
   "file_extension": ".py",
   "mimetype": "text/x-python",
   "name": "python",
   "nbconvert_exporter": "python",
   "pygments_lexer": "ipython3",
   "version": "3.9.13"
  }
 },
 "nbformat": 4,
 "nbformat_minor": 5
}
