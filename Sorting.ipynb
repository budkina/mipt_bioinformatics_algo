{
 "cells": [
  {
   "cell_type": "markdown",
   "id": "e8d2b15f",
   "metadata": {},
   "source": [
    "# Sorting algorithms\n",
    "\n",
    "**A sorting algorithm** is an algorithm that puts elements of a list in order.\n",
    "\n",
    "- numerical order \n",
    "- lexicographical order\n",
    "\n",
    "## Naive approach\n",
    "\n",
    "Compare all pairs in an array.\n",
    "\n",
    "![Title](img/sorting_naive.png)\n"
   ]
  },
  {
   "cell_type": "code",
   "execution_count": 6,
   "id": "a3d30531",
   "metadata": {},
   "outputs": [
    {
     "data": {
      "text/plain": [
       "array([1, 2, 3])"
      ]
     },
     "execution_count": 6,
     "metadata": {},
     "output_type": "execute_result"
    }
   ],
   "source": [
    "import numpy as np\n",
    "\n",
    "def naive_sorting(a):\n",
    "    if a[0] <= a[1]:\n",
    "        if a[1] <= a[2]:\n",
    "            return a[[0,1,2]]\n",
    "        else:\n",
    "            if a[0] <= a[2]:\n",
    "                return a[[0,2,1]]\n",
    "            else:\n",
    "                return a[[2,0,1]]\n",
    "    else:\n",
    "        if a[1] <= a[2]:\n",
    "            if a[0] <= a[2]:\n",
    "                return a[[1,0,2]]\n",
    "            else:\n",
    "                return a[[1,2,0]]\n",
    "        else:\n",
    "            return a[[2,1,0]]\n",
    "\n",
    "a = np.array([2,1,3])\n",
    "naive_sorting(a)"
   ]
  },
  {
   "cell_type": "markdown",
   "id": "ea347863",
   "metadata": {},
   "source": [
    "An array can be sorted in place without using additional memory.\n",
    "\n",
    "**Stable** sorting algorithms maintain the relative order of records with equal keys.\n",
    "\n",
    "![Title](img/stable_sort.png)\n",
    "\n"
   ]
  },
  {
   "cell_type": "markdown",
   "id": "e6cfe9fd",
   "metadata": {},
   "source": [
    "## Selection sort\n",
    "\n",
    "The array is divided into 2 parts: the left one is sorted, and the right one is not.\n",
    "\n",
    "At each step:\n",
    "\n",
    "- look for the minimum in the right part.\n",
    "\n",
    "- swap the minimum element with the first element of the right part.\n",
    "\n",
    "- shift the boundary by 1 to the right.\n"
   ]
  },
  {
   "cell_type": "markdown",
   "id": "1e5b9112",
   "metadata": {},
   "source": [
    "![Title](https://upload.wikimedia.org/wikipedia/commons/9/94/Selection-Sort-Animation.gif)"
   ]
  },
  {
   "cell_type": "markdown",
   "id": "1861240f",
   "metadata": {},
   "source": [
    "Worst-case: $O(n^{2})$ comparisons, $O(n)$ swaps\n",
    "\n",
    "Best-case: $O(n^{2})$\n",
    "\n",
    "Average: $O(n^{2})$\n",
    "\n",
    "In-place sorting, not stable"
   ]
  },
  {
   "cell_type": "code",
   "execution_count": 7,
   "id": "9984a788",
   "metadata": {},
   "outputs": [
    {
     "name": "stdout",
     "output_type": "stream",
     "text": [
      "Step: [0, 5, 2, 6, 9, 3, 1, 4, 8, 7]\n",
      "Step: [0, 1, 2, 6, 9, 3, 5, 4, 8, 7]\n",
      "Step: [0, 1, 2, 6, 9, 3, 5, 4, 8, 7]\n",
      "Step: [0, 1, 2, 3, 9, 6, 5, 4, 8, 7]\n",
      "Step: [0, 1, 2, 3, 4, 6, 5, 9, 8, 7]\n",
      "Step: [0, 1, 2, 3, 4, 5, 6, 9, 8, 7]\n",
      "Step: [0, 1, 2, 3, 4, 5, 6, 9, 8, 7]\n",
      "Step: [0, 1, 2, 3, 4, 5, 6, 7, 8, 9]\n",
      "Step: [0, 1, 2, 3, 4, 5, 6, 7, 8, 9]\n",
      "Step: [0, 1, 2, 3, 4, 5, 6, 7, 8, 9]\n"
     ]
    },
    {
     "data": {
      "text/plain": [
       "[0, 1, 2, 3, 4, 5, 6, 7, 8, 9]"
      ]
     },
     "execution_count": 7,
     "metadata": {},
     "output_type": "execute_result"
    }
   ],
   "source": [
    "def selection_sort(a):\n",
    "    n = len(a)\n",
    "    for i in range(n):\n",
    "        min_index = i\n",
    "        for j in range(i+1, n):\n",
    "            if a[j] < a[min_index]:\n",
    "                min_index = j\n",
    "        a[i], a[min_index] = a[min_index], a[i]\n",
    "        print(f'Step: {a}')\n",
    "        \n",
    "a = [8,5,2,6,9,3,1,4,0,7]\n",
    "selection_sort(a)\n",
    "a"
   ]
  },
  {
   "cell_type": "markdown",
   "id": "f4d00978",
   "metadata": {},
   "source": [
    "## Insertion sort\n",
    "\n",
    "\n",
    "The array is divided into 2 parts: the left one is sorted, and the right one is not.\n",
    "\n",
    "At each step:\n",
    "\n",
    "- take the next element in the right part.\n",
    "\n",
    "- place it in the correct position in the left part.\n"
   ]
  },
  {
   "cell_type": "markdown",
   "id": "492a7e95",
   "metadata": {},
   "source": [
    "![Title](https://upload.wikimedia.org/wikipedia/commons/8/81/Dsa_ins_sort.png)\n",
    "\n"
   ]
  },
  {
   "cell_type": "code",
   "execution_count": 8,
   "id": "d1646ee1",
   "metadata": {},
   "outputs": [
    {
     "name": "stdout",
     "output_type": "stream",
     "text": [
      "Step: [5, 8, 2, 6, 9, 3, 1, 4, 0, 7]\n",
      "Step: [2, 5, 8, 6, 9, 3, 1, 4, 0, 7]\n",
      "Step: [2, 5, 6, 8, 9, 3, 1, 4, 0, 7]\n",
      "Step: [2, 5, 6, 8, 9, 3, 1, 4, 0, 7]\n",
      "Step: [2, 3, 5, 6, 8, 9, 1, 4, 0, 7]\n",
      "Step: [1, 2, 3, 5, 6, 8, 9, 4, 0, 7]\n",
      "Step: [1, 2, 3, 4, 5, 6, 8, 9, 0, 7]\n",
      "Step: [0, 1, 2, 3, 4, 5, 6, 8, 9, 7]\n",
      "Step: [0, 1, 2, 3, 4, 5, 6, 7, 8, 9]\n"
     ]
    },
    {
     "data": {
      "text/plain": [
       "[0, 1, 2, 3, 4, 5, 6, 7, 8, 9]"
      ]
     },
     "execution_count": 8,
     "metadata": {},
     "output_type": "execute_result"
    }
   ],
   "source": [
    "def insertion_sort(a):\n",
    "    n = len(a)\n",
    "    for i in range(1,n):\n",
    "        curr_elem = a[i]\n",
    "        j = i - 1\n",
    "        while j >= 0 and curr_elem < a[j]:\n",
    "            a[j+1] = a[j]\n",
    "            j=j-1\n",
    "        a[j+1] = curr_elem\n",
    "        print(f'Step: {a}')\n",
    "        \n",
    "a = [8,5,2,6,9,3,1,4,0,7]\n",
    "insertion_sort(a)\n",
    "a"
   ]
  },
  {
   "cell_type": "markdown",
   "id": "fd4ce795",
   "metadata": {},
   "source": [
    "Worst-case: $O(n^{2})$\n",
    "\n",
    "Best-case: $O(n)$\n",
    "\n",
    "Average: $O(n^{2})$\n",
    "\n",
    "We can use binary search in the left part to find the insertion position; for large arrays; more cache misses than in linear search.\n",
    "\n",
    "In-place sorting, stable."
   ]
  },
  {
   "cell_type": "markdown",
   "id": "2ebfda3c",
   "metadata": {},
   "source": [
    "Running time of any sorting algorithm that uses comparisons - $\\Omega(NlogN)$"
   ]
  },
  {
   "cell_type": "markdown",
   "id": "40327aad",
   "metadata": {},
   "source": [
    "## Heap sort"
   ]
  },
  {
   "cell_type": "markdown",
   "id": "045312e2",
   "metadata": {},
   "source": [
    "- Build a heap on the input array\n",
    "\n",
    "- N-1 time take the maximum element from the heap and swap it with the first element of the right part of the array\n",
    "\n",
    "- SiftDown new element in root node\n",
    "\n",
    "![Title](img/heap_sort.png)\n",
    "\n",
    "Building a heap: $O(n)$\n",
    "\n",
    "Building a heap: $O(nlogn)$\n",
    "\n",
    "No best case, unstable, in-place\n"
   ]
  },
  {
   "cell_type": "markdown",
   "id": "949e5b04",
   "metadata": {},
   "source": [
    "## Merge sort\n",
    "\n",
    "1. Split the array into two parts\n",
    "\n",
    "2. Sort each part recursively\n",
    "\n",
    "3. Merge the sorted parts into one\n",
    "\n",
    "![Title](https://upload.wikimedia.org/wikipedia/commons/thumb/e/e6/Merge_sort_algorithm_diagram.svg/800px-Merge_sort_algorithm_diagram.svg.png)\n",
    "\n",
    "Stable.\n",
    "\n",
    "Merge sort can be implemented without recursion by dividing the input array into subarrays of small length.\n",
    "\n",
    "### Merging\n",
    "\n",
    "1. Select an array with the smallest first element\n",
    "\n",
    "2. Extract this element into the result array\n",
    "\n",
    "3. Continue until one of the arrays is empty\n",
    "\n",
    "4. Copy the rest of the second array to the end of the result array\n",
    "\n",
    "Worst case: $O(n+m)$\n",
    "\n",
    "Best case: $O(min(n,m))$\n",
    "\n",
    "\n",
    "![Title](img/merging.png)\n"
   ]
  },
  {
   "cell_type": "markdown",
   "id": "2175b4f6",
   "metadata": {},
   "source": [
    "Merge sort complexity\n",
    "\n",
    "$T(n) \\leq 2T(\\frac{n}{2}) + c \\cdot n  \\leq 4T(\\frac{n}{4}) + 2c \\cdot n \\leq ... \\leq  2^{k} \\cdot T(1) + k \\cdot c \\cdot n$,\n",
    "\n",
    "where $k = logn$\n",
    "\n",
    "$T(n) = O(nlogn)$\n",
    "\n",
    "$M = O(n)$, the size of the allocated memory is equal to the sum of the lengths of the merged arrays."
   ]
  },
  {
   "cell_type": "markdown",
   "id": "f8e916b9",
   "metadata": {},
   "source": [
    "## QuickSort"
   ]
  },
  {
   "cell_type": "markdown",
   "id": "e2765200",
   "metadata": {},
   "source": [
    "- Divide the array into 2 parts using the partition function:\n",
    "\n",
    "{elements from the left part} $\\leq$ {elements from the right part}\n",
    "\n",
    "- Apply this procedure recursively to the left and right parts.\n",
    "\n",
    "### Partition function\n",
    "\n",
    "0. In the input array A, select a pivot element\n",
    "\n",
    "1. Put the pivot in the n-1 position in A\n",
    "\n",
    "Repeat while $i<j$:\n",
    "\n",
    "    2. Set 2 pointers - i to the first element of the array and j to the element before the pivot element\n",
    "\n",
    "    3. Move i to the right until $A[i] < pivot$\n",
    "\n",
    "    4. Move j to the left until  $A[j] \\geq pivot$\n",
    "\n",
    "    5. Swap $A[i]$ and $A[j]$ if i<j\n",
    "    \n",
    "6. Swap $A[i]$ and $A[n-1]$ (pivot)\n",
    "\n",
    "![Title](img/partition.png)\n",
    "\n",
    "\n",
    "Worst case - array is sorted: $O(n^{2})$\n",
    "\n",
    "Best case - $O(n log n)$\n",
    "\n",
    "Average - $O(n log n)$\n"
   ]
  }
 ],
 "metadata": {
  "kernelspec": {
   "display_name": "Python 3 (ipykernel)",
   "language": "python",
   "name": "python3"
  },
  "language_info": {
   "codemirror_mode": {
    "name": "ipython",
    "version": 3
   },
   "file_extension": ".py",
   "mimetype": "text/x-python",
   "name": "python",
   "nbconvert_exporter": "python",
   "pygments_lexer": "ipython3",
   "version": "3.9.13"
  }
 },
 "nbformat": 4,
 "nbformat_minor": 5
}
