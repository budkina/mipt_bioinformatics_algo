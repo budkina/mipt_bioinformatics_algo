{
 "cells": [
  {
   "cell_type": "markdown",
   "id": "68b525a7",
   "metadata": {},
   "source": [
    "## Deadline: 14 October 2024"
   ]
  },
  {
   "cell_type": "markdown",
   "id": "87e89097",
   "metadata": {},
   "source": [
    "Implement two types of sorting of SAM files: by alignment position and by read name. You can use qsort, merge sort, or heap sort. Sorting by alignment position must also include sorting by chromosome. Do not use libraries that manipulate SAM files for parsing SAM, e.g., [pysam](https://pysam.readthedocs.io/en/latest/api.html). Provide tests using any example file: [source1](https://github.com/samtools/samtools/tree/develop/examples) or [source2](https://github.com/davetang/learning_bam_file/tree/main/eg) (at the first stage, convert bam to sam using samtools)\n",
    "\n",
    "3 points"
   ]
  },
  {
   "cell_type": "code",
   "execution_count": null,
   "id": "5f1b6a23",
   "metadata": {},
   "outputs": [],
   "source": []
  },
  {
   "cell_type": "markdown",
   "id": "ef1b1e4d",
   "metadata": {},
   "source": [
    "***Next-generation sequencing*** generally produces short ***reads*** (<~200 bases). For each read, we need to find the location in the genome sequence from where it came from. This is called ***alignment***, or mapping the reads against the reference sequence. ***SAM files*** store information about the alignment of nucleotide sequences to a reference sequence.\n",
    "\n",
    "![Title](https://training.galaxyproject.org/training-material/topics/sequence-analysis/images/mapping/mapping.png)\n",
    "\n",
    "A SAM file contains a tab-delimited table, where each row corresponds to the alignment of one read. A SAM file can contain a header string that starts with \"@.\".\n",
    "\n",
    "Usually, the QNAME column contains the read id, the RNAME column contains the chromosome name, and the POS column contains the position on the chromosome where the read is aligned.\n",
    "\n",
    "- https://en.wikipedia.org/wiki/SAM_(file_format)\n",
    " \n",
    "- https://samtools.github.io/hts-specs/SAMv1.pdf\n",
    "\n",
    "\n",
    "![Title](https://www.samformat.info/images/sam_format_annotated_example.5108a0cd.jpg)\n"
   ]
  }
 ],
 "metadata": {
  "kernelspec": {
   "display_name": "Python 3 (ipykernel)",
   "language": "python",
   "name": "python3"
  },
  "language_info": {
   "codemirror_mode": {
    "name": "ipython",
    "version": 3
   },
   "file_extension": ".py",
   "mimetype": "text/x-python",
   "name": "python",
   "nbconvert_exporter": "python",
   "pygments_lexer": "ipython3",
   "version": "3.9.13"
  }
 },
 "nbformat": 4,
 "nbformat_minor": 5
}
