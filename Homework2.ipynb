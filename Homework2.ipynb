{
 "cells": [
  {
   "cell_type": "markdown",
   "id": "3c2b279b",
   "metadata": {},
   "source": [
    "## Deadline: 23 October 2023"
   ]
  },
  {
   "cell_type": "markdown",
   "id": "3d43859c",
   "metadata": {},
   "source": [
    "Implement sorting of SAM files by alignment position or read name (qsort, merge sort, or heap sort). Do not use libraries that manipulate SAM files for parsing SAM, e.g., [pysam](https://pysam.readthedocs.io/en/latest/api.html). Provide tests using any example file: [source1](https://github.com/samtools/samtools/tree/develop/examples) or [source2](https://github.com/davetang/learning_bam_file/tree/main/eg) (at the first stage, convert bam to sam using samtools)\n",
    "\n",
    "2 points"
   ]
  }
 ],
 "metadata": {
  "kernelspec": {
   "display_name": "Python 3 (ipykernel)",
   "language": "python",
   "name": "python3"
  },
  "language_info": {
   "codemirror_mode": {
    "name": "ipython",
    "version": 3
   },
   "file_extension": ".py",
   "mimetype": "text/x-python",
   "name": "python",
   "nbconvert_exporter": "python",
   "pygments_lexer": "ipython3",
   "version": "3.9.13"
  }
 },
 "nbformat": 4,
 "nbformat_minor": 5
}
