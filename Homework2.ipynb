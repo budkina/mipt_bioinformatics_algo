{
 "cells": [
  {
   "cell_type": "markdown",
   "id": "b06da7db",
   "metadata": {},
   "source": [
    "## Deadline: 18 May 2023\n",
    "\n",
    "### 1. AVL tree\n",
    "\n",
    "Implement AVL tree with interface functions Insert, Delete, Search. Provide tests.\n",
    "\n",
    "2 points"
   ]
  },
  {
   "cell_type": "code",
   "execution_count": null,
   "id": "c36d303a",
   "metadata": {},
   "outputs": [],
   "source": []
  },
  {
   "cell_type": "markdown",
   "id": "5699e3df",
   "metadata": {},
   "source": [
    "### 2. Rabin-Karp algorithm\n",
    "\n",
    "Implement Rabin-Karp algorithm search. Implement your own function for polynomial hash calculation. Provide tests. \n",
    "\n",
    "2 points"
   ]
  },
  {
   "cell_type": "code",
   "execution_count": null,
   "id": "219ec9d8",
   "metadata": {},
   "outputs": [],
   "source": []
  }
 ],
 "metadata": {
  "kernelspec": {
   "display_name": "Python 3 (ipykernel)",
   "language": "python",
   "name": "python3"
  },
  "language_info": {
   "codemirror_mode": {
    "name": "ipython",
    "version": 3
   },
   "file_extension": ".py",
   "mimetype": "text/x-python",
   "name": "python",
   "nbconvert_exporter": "python",
   "pygments_lexer": "ipython3",
   "version": "3.9.13"
  }
 },
 "nbformat": 4,
 "nbformat_minor": 5
}
