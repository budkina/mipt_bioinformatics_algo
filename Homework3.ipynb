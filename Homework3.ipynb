{
 "cells": [
  {
   "cell_type": "markdown",
   "id": "22e0fcdd",
   "metadata": {},
   "source": [
    "## Deadline: 6 November 2024\n"
   ]
  },
  {
   "cell_type": "markdown",
   "id": "8efc3011",
   "metadata": {},
   "source": [
    "### 1. AVL tree\n",
    "\n",
    "Implement an AVL tree with the interface functions Insert, Delete, and Search. Provide tests.\n",
    "\n",
    "2 points"
   ]
  },
  {
   "cell_type": "code",
   "execution_count": null,
   "id": "c36e904e",
   "metadata": {},
   "outputs": [],
   "source": []
  },
  {
   "cell_type": "markdown",
   "id": "71527337",
   "metadata": {},
   "source": [
    "### 1. Hash table\n",
    "\n",
    "Implement a k-mer index that stores the positions of all k-mers of an input nucleotide sequence in a hash table. Write your own implementation of the hash table with the interfaces add(), delete(), and get() using the polynomial hash function. Provide some tests for your class.\n",
    "\n",
    "2 points"
   ]
  },
  {
   "cell_type": "code",
   "execution_count": null,
   "id": "3efe7216",
   "metadata": {},
   "outputs": [],
   "source": []
  },
  {
   "cell_type": "markdown",
   "id": "0eb05488",
   "metadata": {},
   "source": [
    "### 2. Bloom filter\n",
    "\n",
    "Implement a Bloom filter class using the input sequence from the previous task. Implement the build() and query() interfaces. Provide some tests for your class.\n",
    "\n",
    "2 points"
   ]
  },
  {
   "cell_type": "code",
   "execution_count": null,
   "id": "4d420db6",
   "metadata": {},
   "outputs": [],
   "source": []
  }
 ],
 "metadata": {
  "kernelspec": {
   "display_name": "Python 3 (ipykernel)",
   "language": "python",
   "name": "python3"
  },
  "language_info": {
   "codemirror_mode": {
    "name": "ipython",
    "version": 3
   },
   "file_extension": ".py",
   "mimetype": "text/x-python",
   "name": "python",
   "nbconvert_exporter": "python",
   "pygments_lexer": "ipython3",
   "version": "3.9.13"
  }
 },
 "nbformat": 4,
 "nbformat_minor": 5
}
