{
 "cells": [
  {
   "cell_type": "markdown",
   "id": "71527337",
   "metadata": {},
   "source": [
    "### 1. Hash table\n",
    "\n",
    "Implement k-mer index that stores positions of all k-mers of an input nucleotide sequence in a hash table. Write your own implementation of hash table with the interface: add(), delete(), get() using polynomial hash function. Provide some tests for your class.\n",
    "\n",
    "2 points"
   ]
  },
  {
   "cell_type": "code",
   "execution_count": null,
   "id": "3efe7216",
   "metadata": {},
   "outputs": [],
   "source": []
  },
  {
   "cell_type": "markdown",
   "id": "0eb05488",
   "metadata": {},
   "source": [
    "### 2. Bloom filter\n",
    "\n",
    "Implement a Bloom filter class using the input sequence from the previous task. Implement build() and query() interface. Provide some tests for your class.\n",
    "\n",
    "2 points"
   ]
  },
  {
   "cell_type": "code",
   "execution_count": null,
   "id": "4d420db6",
   "metadata": {},
   "outputs": [],
   "source": []
  },
  {
   "cell_type": "markdown",
   "id": "a94225f7",
   "metadata": {},
   "source": [
    "### 3*. (Optional) SBT\n",
    "\n",
    "Implement Sequence Bloom Trees algorithm from https://www.ncbi.nlm.nih.gov/pmc/articles/PMC4804353/\n",
    "\n",
    "4 points\n"
   ]
  },
  {
   "cell_type": "code",
   "execution_count": null,
   "id": "b1196d0c",
   "metadata": {},
   "outputs": [],
   "source": []
  }
 ],
 "metadata": {
  "kernelspec": {
   "display_name": "Python 3 (ipykernel)",
   "language": "python",
   "name": "python3"
  },
  "language_info": {
   "codemirror_mode": {
    "name": "ipython",
    "version": 3
   },
   "file_extension": ".py",
   "mimetype": "text/x-python",
   "name": "python",
   "nbconvert_exporter": "python",
   "pygments_lexer": "ipython3",
   "version": "3.9.13"
  }
 },
 "nbformat": 4,
 "nbformat_minor": 5
}
