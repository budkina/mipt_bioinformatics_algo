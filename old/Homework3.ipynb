{
 "cells": [
  {
   "cell_type": "markdown",
   "id": "54e9553d",
   "metadata": {},
   "source": [
    "## Deadline: 5 June 2023\n",
    "\n",
    "### 1. FM-index\n",
    "\n",
    "Implement FM-index data structure and string search using it. Provide tests.\n",
    "\n",
    "https://www.youtube.com/watch?v=4n7NPk5lwbI\n",
    "\n",
    "3 points"
   ]
  },
  {
   "cell_type": "code",
   "execution_count": null,
   "id": "f08853df",
   "metadata": {},
   "outputs": [],
   "source": []
  },
  {
   "cell_type": "markdown",
   "id": "418a80b4",
   "metadata": {},
   "source": [
    "### 2. Needleman–Wunsch\n",
    "\n",
    "Implement Needleman–Wunsch algorithm. Provide tests.\n",
    "\n",
    "2 points"
   ]
  },
  {
   "cell_type": "code",
   "execution_count": null,
   "id": "ca5243e7",
   "metadata": {},
   "outputs": [],
   "source": []
  },
  {
   "cell_type": "markdown",
   "id": "d97b5ec9",
   "metadata": {},
   "source": [
    "### 3*.  (Optional)  Greedy clustring\n",
    "\n",
    "Implement simple clustering procedure for nucleotide sequences described in 2.2 Cd-hit and cd-hit-est clustering section (https://doi.org/10.1093/bioinformatics/btl158). You can omit short word filtering, use the global alignment implementation from the second task or biopython global or local alignment https://biopython.org/docs/1.75/api/Bio.pairwise2.html, and implement a custom score threshold calculation based on length of the representative cluster sequence (the first sequence added to cluster).\n",
    "\n",
    "4 points"
   ]
  }
 ],
 "metadata": {
  "kernelspec": {
   "display_name": "Python 3 (ipykernel)",
   "language": "python",
   "name": "python3"
  },
  "language_info": {
   "codemirror_mode": {
    "name": "ipython",
    "version": 3
   },
   "file_extension": ".py",
   "mimetype": "text/x-python",
   "name": "python",
   "nbconvert_exporter": "python",
   "pygments_lexer": "ipython3",
   "version": "3.9.13"
  }
 },
 "nbformat": 4,
 "nbformat_minor": 5
}
