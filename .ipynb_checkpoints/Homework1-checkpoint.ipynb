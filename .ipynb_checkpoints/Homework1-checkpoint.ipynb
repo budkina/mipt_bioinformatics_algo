{
 "cells": [
  {
   "cell_type": "markdown",
   "id": "dc5237db",
   "metadata": {},
   "source": [
    "## Deadline: 3 May 2023"
   ]
  },
  {
   "cell_type": "markdown",
   "id": "a81cbca4",
   "metadata": {},
   "source": [
    "### 1. Estimate the worst case time complexity\n",
    "\n",
    "1 point"
   ]
  },
  {
   "cell_type": "code",
   "execution_count": 2,
   "id": "4ddef60e",
   "metadata": {},
   "outputs": [],
   "source": [
    "def func0(n):\n",
    "    if n == 0: return 1\n",
    "    return func0(n-1) + 5\n",
    "\n",
    "def func1(n):\n",
    "    i = 1\n",
    "    while i < n:\n",
    "        i = i*2\n",
    "    \n",
    "def func2(n):\n",
    "    if n == 1:\n",
    "        return False\n",
    "    i = 2\n",
    "    while i*i <= n:\n",
    "        if n % i  == 0:\n",
    "            return False\n",
    "        i+=1\n",
    "    return True   \n"
   ]
  },
  {
   "cell_type": "markdown",
   "id": "bdda7081",
   "metadata": {},
   "source": [
    "### 1. Hash table\n",
    "\n",
    "Implement k-mer index that stores positions of all k-mers of an input nucleotide sequence in a hash table. Write your own implementation of hash table with the interface: add(), delete(), get() using polynomial hash function. Provide some tests for your class.\n",
    "\n",
    "2 points"
   ]
  },
  {
   "cell_type": "code",
   "execution_count": null,
   "id": "92b030b2",
   "metadata": {},
   "outputs": [],
   "source": []
  },
  {
   "cell_type": "markdown",
   "id": "2ceb0237",
   "metadata": {},
   "source": [
    "### 2. Bloom filter\n",
    "\n",
    "Implement a Bloom filter class using the input sequence from the previous task. Implement build() and query() interface. Provide some tests for your class.\n",
    "\n",
    "2 points"
   ]
  },
  {
   "cell_type": "code",
   "execution_count": null,
   "id": "ed9ef36e",
   "metadata": {},
   "outputs": [],
   "source": []
  },
  {
   "cell_type": "markdown",
   "id": "65b89cab",
   "metadata": {},
   "source": [
    "### 3*. (Optional) SBT\n",
    "\n",
    "Implement Sequence Bloom Trees algorithm from https://www.ncbi.nlm.nih.gov/pmc/articles/PMC4804353/\n",
    "\n",
    "4 points\n"
   ]
  },
  {
   "cell_type": "code",
   "execution_count": null,
   "id": "ae47c337",
   "metadata": {},
   "outputs": [],
   "source": []
  }
 ],
 "metadata": {
  "kernelspec": {
   "display_name": "Python 3 (ipykernel)",
   "language": "python",
   "name": "python3"
  },
  "language_info": {
   "codemirror_mode": {
    "name": "ipython",
    "version": 3
   },
   "file_extension": ".py",
   "mimetype": "text/x-python",
   "name": "python",
   "nbconvert_exporter": "python",
   "pygments_lexer": "ipython3",
   "version": "3.9.13"
  }
 },
 "nbformat": 4,
 "nbformat_minor": 5
}
