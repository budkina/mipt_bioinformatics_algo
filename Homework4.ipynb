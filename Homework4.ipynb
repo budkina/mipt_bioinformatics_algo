{
 "cells": [
  {
   "cell_type": "markdown",
   "id": "05705d15",
   "metadata": {},
   "source": [
    "## Deadline: 12 January 2024\n",
    "\n",
    "### 1. Rabin-Karp algorithm\n",
    "\n",
    "Implement the Rabin-Karp algorithm. Implement your own function for polynomial hash calculation. Provide tests. \n",
    "\n",
    "2 points"
   ]
  },
  {
   "cell_type": "code",
   "execution_count": null,
   "id": "6068de1b",
   "metadata": {},
   "outputs": [],
   "source": []
  },
  {
   "cell_type": "markdown",
   "id": "3fc68cc9",
   "metadata": {},
   "source": [
    "### 2. Multiple sequence alignment\n",
    "\n",
    "Implement multiple sequence alignment of several amino acid sequences using progressive alignment:\n",
    "\n",
    "1) Build a distance matrix using Levenshtein distance and implement your own Levenshtein distance calculation function.\n",
    "\n",
    "2) Build a guide tree using the UPGMA algorithm.\n",
    "\n",
    "3) Implement the Smith-Waterman algorithm for sequence alignment. Use the BLOSUM62 matrix for mismatch score calculation. Check https://github.com/xavierpinho23/Sequence-search/blob/master/blosum62.py.\n",
    "\n",
    "6 points"
   ]
  },
  {
   "cell_type": "code",
   "execution_count": null,
   "id": "e0ccc372",
   "metadata": {},
   "outputs": [],
   "source": []
  }
 ],
 "metadata": {
  "kernelspec": {
   "display_name": "Python 3 (ipykernel)",
   "language": "python",
   "name": "python3"
  },
  "language_info": {
   "codemirror_mode": {
    "name": "ipython",
    "version": 3
   },
   "file_extension": ".py",
   "mimetype": "text/x-python",
   "name": "python",
   "nbconvert_exporter": "python",
   "pygments_lexer": "ipython3",
   "version": "3.9.13"
  }
 },
 "nbformat": 4,
 "nbformat_minor": 5
}
