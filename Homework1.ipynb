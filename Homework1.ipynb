{
 "cells": [
  {
   "cell_type": "markdown",
   "id": "dc5237db",
   "metadata": {},
   "source": [
    "## Deadline: 1 October 2024"
   ]
  },
  {
   "cell_type": "markdown",
   "id": "a81cbca4",
   "metadata": {},
   "source": [
    "### 1. Estimate the worst case time complexity\n",
    "3 points"
   ]
  },
  {
   "cell_type": "code",
   "execution_count": 1,
   "id": "4ddef60e",
   "metadata": {},
   "outputs": [],
   "source": [
    "def func0(n):\n",
    "    if n == 0: return 1\n",
    "    return func0(n-1) + 5\n",
    "\n",
    "def func1(n):\n",
    "    i = 1\n",
    "    while i < n:\n",
    "        i = i*2\n",
    "    \n",
    "def func2(n):\n",
    "    if n == 1:\n",
    "        return False\n",
    "    i = 2\n",
    "    while i*i <= n:\n",
    "        if n % i  == 0:\n",
    "            return False\n",
    "        i+=1\n",
    "    return True   \n"
   ]
  },
  {
   "cell_type": "markdown",
   "id": "bb279548",
   "metadata": {},
   "source": [
    "### 2. Implement binary heap and priority queue based on the binary heap. Provide tests.\n",
    "\n",
    "4 points"
   ]
  },
  {
   "cell_type": "code",
   "execution_count": null,
   "id": "8872909c",
   "metadata": {},
   "outputs": [],
   "source": []
  }
 ],
 "metadata": {
  "kernelspec": {
   "display_name": "Python 3 (ipykernel)",
   "language": "python",
   "name": "python3"
  },
  "language_info": {
   "codemirror_mode": {
    "name": "ipython",
    "version": 3
   },
   "file_extension": ".py",
   "mimetype": "text/x-python",
   "name": "python",
   "nbconvert_exporter": "python",
   "pygments_lexer": "ipython3",
   "version": "3.9.13"
  }
 },
 "nbformat": 4,
 "nbformat_minor": 5
}
